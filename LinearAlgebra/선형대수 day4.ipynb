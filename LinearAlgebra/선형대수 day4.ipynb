{
 "cells": [
  {
   "cell_type": "markdown",
   "id": "03e62279",
   "metadata": {},
   "source": [
    "### Least Square 문제에서 ATA가 역행렬이 존재하지 않는다면?\n",
    "argmin ||Ax-b|| = (ATAx = ATb)\n",
    "    A의 column들이 linearly dependent 해서 span 했을 때 겹치게 됨. (벡터간의 관계가 상수배로 설명이 됐을 때)\n",
    "    해가 없는 경우는 없고 무수히 많게 된다.-> 수선의 발은 자기 자신이 되더라도 항상 존재하기 때문에 해가 없는 경우는 없음\n",
    "        -> 하나의 수선의 발을 만들 수 있는 x가 많을 수 있음. A의 열이 linearly dependent하면 선형조합으로 생기는 ax햇은 여러개 될 수 있다\n",
    "    역행렬은 웬만하면 있음. 벡터의 차원이 높을 때 두개 벡터 이상이 linearly dependent하려면 모든 성분끼리 같은 상수배를 가져야하는데 그 경우는 매우 드묾."
   ]
  },
  {
   "cell_type": "markdown",
   "id": "37461530",
   "metadata": {},
   "source": [
    "### Orthogonal Projection의 관점\n",
    "    b햇(Ax햇)을 구하는 함수 f(b)는 A(ATA)-1ATb 이고 이는 Cb의 형식이기 때문에 f(b) = Cb 즉, b를 linear transformation 했다고도 볼 수 있다"
   ]
  },
  {
   "cell_type": "markdown",
   "id": "f86bccb3",
   "metadata": {},
   "source": [
    "### orthogonal/ orthonormal sets\n",
    "    벡터들이 모두 직교할 때, 즉 벡터끼리의 내적값이 0일 때 그 벡터들의 집합을 orthogonal set이라고 하고, 그 벡터들 길이가 모두 1인 unit vector일 경우에는 orthonormal set이라고 한다\n",
    "    orthogonal set의 벡터들은 모두 linearly independent하다. 그렇다고 linearly independent 한 벡터들이 모두 직교하는 것은 아니다."
   ]
  },
  {
   "cell_type": "markdown",
   "id": "3b0b98ae",
   "metadata": {},
   "source": [
    "# Gram-Schmidt orthogonalization\n",
    "    행렬 A의 벡터들을 모두 직교하는 벡터로 만들고 그 길이를 1로 만드는 것이 orthogonalization, orthonormalization 이라고 한다.\n",
    "    orthonormalization으로 생긴 새로운 행렬의 열벡터u에 대해 A행렬의 열벡터 a의 span으로 만든 column space와 u의 span으로 만든 column space는 같다. 즉 basis만 다르고 span은 같음. 따라서 least square 문제에서 b를 orthogonal projection하는데 a 의 column space에 하나, u의 column space하나 결과는 똑같기때문에 u를 쓴다. u를 쓰면 f(b) = U(UTU)-1UTb 인데 UTU는 항등행렬 I가 나와서 f(b) = UUTb가 된다(식을 간소화할 수 있음-> 역행렬 부분이 사라져서 계산이 더 정확해짐). u column space에 orthogonal projection 해서 생긴 y햇(벡터)을 구하는 식은 yTu/uTu * U 가 되고 u가 unit vector이면 uTu는 1이므로 yTu * U가 된다.\n",
    "## QR factorization\n",
    "    위의 변환한 행렬 U를 Q라고 하면, 행렬 A = QR의 선형계산으로 나타낼 수 있음 R은 상삼각행렬이 됨."
   ]
  }
 ],
 "metadata": {
  "kernelspec": {
   "display_name": "Python 3 (ipykernel)",
   "language": "python",
   "name": "python3"
  },
  "language_info": {
   "codemirror_mode": {
    "name": "ipython",
    "version": 3
   },
   "file_extension": ".py",
   "mimetype": "text/x-python",
   "name": "python",
   "nbconvert_exporter": "python",
   "pygments_lexer": "ipython3",
   "version": "3.9.7"
  }
 },
 "nbformat": 4,
 "nbformat_minor": 5
}
