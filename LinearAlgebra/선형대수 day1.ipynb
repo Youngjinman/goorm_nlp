{
 "cells": [
  {
   "cell_type": "markdown",
   "id": "6017752e",
   "metadata": {},
   "source": [
    "# 벡터/매트릭스 연산(덧셈,곱셈)"
   ]
  },
  {
   "cell_type": "markdown",
   "id": "e24f2f61",
   "metadata": {},
   "source": [
    "    벡터끼리나 매트릭스끼리 연산을 위해서는 사이즈가 동일해야함\n",
    "    A,B,C 는 m*n으로 같아야함\n",
    "    scalar multiple: 행렬 밖의 scalar는 행렬 내 원소들에 모두 곱해줘야함\n",
    "    행렬끼리 곱: 행벡터*열벡터(내적) -> 첫번째 행렬의 열개수와 두번째 행렬의 행개수가 같아야 곱셈 가능\n",
    "        곱셈 결과 행렬의 사이즈는 첫번째 행렬의 행개수 * 두번째 행렬의 열개수\n",
    "        교환 법칙 성립 안함"
   ]
  },
  {
   "cell_type": "markdown",
   "id": "bb15b4d8",
   "metadata": {},
   "source": [
    "## 여러 방정식을 하나의 매트릭스 방정식으로"
   ]
  },
  {
   "cell_type": "markdown",
   "id": "836e70ba",
   "metadata": {},
   "source": [
    "    10a + 20b + 30c = 7      [[10,20,30],[12,23,34],[24,98,12]] * [a,b,c]T = [7,19,43]\n",
    "    12a + 23b + 34c = 19                  a                            x        y\n",
    "    24a + 98b + 12c = 43"
   ]
  },
  {
   "cell_type": "markdown",
   "id": "1d73dbe8",
   "metadata": {},
   "source": [
    "## Identity Matrix(항등 행렬)\n",
    "    n*n 정사각행렬의 대각이 모두 1이고 나머지는 0\n",
    "    항등행렬 * 벡터 x = 벡터 x"
   ]
  },
  {
   "cell_type": "markdown",
   "id": "105d21fd",
   "metadata": {},
   "source": [
    "## Inverse Matrix(역행렬)\n",
    "    n*n 정사각행렬 A와 그것의 역행렬 A-1의 곱 : A*A-1 = A-1*A = In(항등행렬)\n",
    "    A = [[a,b],[c,d]] -> A-1 = 1/ad-bc * [[d,-b],[-c,a]]\n",
    "    정사각행렬이 아니라면 역행렬이 존재하지 않는다.\n",
    "    \n",
    "    위에서 구한 A*X = Y 에 대해 양변에 A-1을 곱하면 X = Y*A-1\n",
    "    가중치 벡터 X를 구할 수 있게 됨\n",
    "    \n",
    "    역행렬이 없는 경우? -> ad-bc=0일 때 -> determinant(A) = ad-bc\n",
    "        ->AX = Y 의 해가 없거나 무수히 많게 됨"
   ]
  },
  {
   "cell_type": "markdown",
   "id": "148be182",
   "metadata": {},
   "source": [
    "## Rectangular Matrix in Ax = B\n",
    "    A는 m*n 행렬 -> m은 sample의 수 n은 변수의 수\n",
    "    m<n : 해가 무수히 많게 됨 (under determinant system)\n",
    "    m>n: 해가 없게 됨 (over determinant system)"
   ]
  }
 ],
 "metadata": {
  "kernelspec": {
   "display_name": "Python 3 (ipykernel)",
   "language": "python",
   "name": "python3"
  },
  "language_info": {
   "codemirror_mode": {
    "name": "ipython",
    "version": 3
   },
   "file_extension": ".py",
   "mimetype": "text/x-python",
   "name": "python",
   "nbconvert_exporter": "python",
   "pygments_lexer": "ipython3",
   "version": "3.9.7"
  }
 },
 "nbformat": 4,
 "nbformat_minor": 5
}
