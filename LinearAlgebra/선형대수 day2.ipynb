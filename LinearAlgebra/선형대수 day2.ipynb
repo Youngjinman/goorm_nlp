{
 "cells": [
  {
   "cell_type": "markdown",
   "id": "c2b2574e",
   "metadata": {},
   "source": [
    "## Matrix equation -> Vector equation"
   ]
  },
  {
   "cell_type": "markdown",
   "id": "309a2e2e",
   "metadata": {},
   "source": [
    "    [[1,2,3],[4,5,6],[7,8,9]] * [x1,x2,x3] = [20,30,40] #matrix equation\n",
    "    -> [1,4,7]x1 + [2,5,8]x2 + [3,6,9]x3 = [20,30,40] #vector equation\n",
    "    열벡터끼리 묶어서 벡터 연산으로 교체"
   ]
  },
  {
   "cell_type": "markdown",
   "id": "fc87c20f",
   "metadata": {},
   "source": [
    "## Span\n",
    "    벡터들의 집합으로 만들 수 있는 모든 linear combinations의 집합.\n",
    "    -> {[1,2,3] , [4,5,6]} => {[1,2,3]*0 + [4,5,6]*0, [1,2,3]*1 + [4,5,6]*0, [1,2,3]*0 + [4,5,6]*1, ...}\n",
    "    a1*x1 + a2*x2 = b 일 때 a1,a2의 span 내에 b가 존재해야만 해가 존재한다.\n",
    " "
   ]
  },
  {
   "cell_type": "markdown",
   "id": "8a3982df",
   "metadata": {},
   "source": [
    "# 행렬 곱\n",
    "    첫번째 행렬의 열의 개수와 두번째 행렬의 행의 개수가 같아야 곱셈 연산 가능\n",
    "    열벡터와 열벡터의 성분끼리 연산하고 행벡터의 성분과 행벡터끼리 연산하면 열벡터 곱셈(앞의 행렬이 열벡터화, 뒤의 행렬이 계수화), 행벡터 곱셈(앞의 행렬이 계수화, 뒤의 행렬이 행벡터와)으로 변환 가능\n",
    "    열벡터1*행벡터1 + 열벡터2*행벡터2 + ... 으로도 계산 가능 -> 외적의 합으로 곱셈 가능"
   ]
  },
  {
   "cell_type": "markdown",
   "id": "16e0ab0f",
   "metadata": {},
   "source": [
    "## 선형독립\n",
    "    벡터들이 서로의 span에 들어오지 않으면 선형 독립 -> 벡터 결합 = 0 의 방정식에서 적어도 하나의 벡터가 0이 아닌데 식을 만족하면 선형 독립이 아님. 선형 독립일 경우에만 해가 1개이고 선형 의존이면 해가 여러개임."
   ]
  },
  {
   "cell_type": "markdown",
   "id": "5b37de9f",
   "metadata": {},
   "source": [
    "## 부분공간(subspace)\n",
    "    선형 결합 내에 속하는 벡터를 subspace라고 함\n",
    "    span{v1...vp}은 항상 부분공간임. 어떻게든 선형 결합해서 다시 span에 속할 수밖에 없음\n",
    "    즉, 벡터x(n차원)의 set을 H라고 했을 때 x의 선형결합이 다시 H에 속해야 Rn의 subspace이다\n",
    "## 기저벡터(basis)\n",
    "    span 했을 때 subspace를 다 채워야하고, 선형 독립인 벡터를 기저벡터라고 한다.\n",
    "    하나의 subspace에 대해서 기저벡터의 수는 동일하고, 그 수를 dimension이라고 한다\n",
    "## 차원\n",
    "    R3(3차원)의 기저벡터는 [[1],[0],[0]],[[0],[1],[0]],[[0],[0],[1]]임. 이것들의 선형 결합(span)으로 R3를 꽉 채울 수 있다."
   ]
  },
  {
   "cell_type": "markdown",
   "id": "8974362e",
   "metadata": {},
   "source": [
    "## Column Space\n",
    "    행렬을 열로 구분짓고 그 열들의 span을 구하면 그것이 column space. [[1,2],[3,4]] -> 열:[1,3],[2,4] -> span([1,3],[2,4]) => column space. 단, 각 열들은 linearly independent 해야함. 하나라도 의존적인 열이 있다면 그것은 제외하고 span -> column space\n",
    "## Rank\n",
    "    column space의 dimension 즉, linearly independent 한 열의 개수가 rank임"
   ]
  }
 ],
 "metadata": {
  "kernelspec": {
   "display_name": "Python 3 (ipykernel)",
   "language": "python",
   "name": "python3"
  },
  "language_info": {
   "codemirror_mode": {
    "name": "ipython",
    "version": 3
   },
   "file_extension": ".py",
   "mimetype": "text/x-python",
   "name": "python",
   "nbconvert_exporter": "python",
   "pygments_lexer": "ipython3",
   "version": "3.9.7"
  }
 },
 "nbformat": 4,
 "nbformat_minor": 5
}
