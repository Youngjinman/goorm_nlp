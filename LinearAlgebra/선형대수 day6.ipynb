{
 "cells": [
  {
   "cell_type": "markdown",
   "id": "d3571a16",
   "metadata": {},
   "source": [
    "## 고유값, 고유벡터\n",
    "    각기 다른 고유값에 대한 각각의 고유벡터들은 linearly independent 하다. 람다1, 람다2, 람다3에 대한 고유벡터 v1,v2,v3는 선형독립하기 위해서 각각의 span으로 이루는 subspace와 벡터가 각이 0도 보다 커야한다. angle(v3, span{v1,v2}) > 0.\n",
    "    가장 큰 각도는 90도 이다. 각각의 벡터의 내적이 0이 되어야 orthogonal set가 된다.\n",
    "    만약 A행렬이 symmetric matrix 라면 A의 서로 다른 고유값으로부터 나온 고유벡터 V1,V2는 orthogonal하며 내적=0이다."
   ]
  },
  {
   "cell_type": "markdown",
   "id": "1762cd58",
   "metadata": {},
   "source": [
    "## Algebraic multiplicity (대수적 중복도)\n",
    "    고윳값 람다i가 chracteristic equation 의 근으로 중복된 횟수. 람다 i가 들어있는 항의 차수."
   ]
  }
 ],
 "metadata": {
  "kernelspec": {
   "display_name": "Python 3 (ipykernel)",
   "language": "python",
   "name": "python3"
  },
  "language_info": {
   "codemirror_mode": {
    "name": "ipython",
    "version": 3
   },
   "file_extension": ".py",
   "mimetype": "text/x-python",
   "name": "python",
   "nbconvert_exporter": "python",
   "pygments_lexer": "ipython3",
   "version": "3.9.7"
  }
 },
 "nbformat": 4,
 "nbformat_minor": 5
}
