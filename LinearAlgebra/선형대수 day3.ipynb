{
 "cells": [
  {
   "cell_type": "markdown",
   "id": "d4234c3c",
   "metadata": {},
   "source": [
    "## Linear Transformation\n",
    "    T(cu + dv) = cT(u) + dT(v) 를 만족하면 선형 변환\n",
    "    u,v가 ax 꼴이면 만족하지만 y절편이 붙으면 만족하지 않음\n",
    "    y절편이 붙었을 때는 b+ ax 꼴로 바꿔서 -> [b,a] * [[1],[x]]로 하면 -> aT * x의 꼴로 되므로 선형변환이 될 수 있다.\n",
    "    즉, R1->R1 (1차원 x를 넣었을 때 1차원 y가 나옴)을 R2->R1(2차원 벡터 x를 넣었을 때 1차원 y가 나옴)으로 바꾸어 선형변환 가능\n",
    "    벡터의 선형 변환에서 선형성이 보장되면 그 변환 즉, 함수는 행렬*입력벡터의 형식을 띤다.\n",
    "        T : R2 -> R3\n",
    "        T([[1],[0]]) = [[2],[-1],[1]] , T([[0],[1]]) = [[0],[1],[2]] -> 선형 변환 예시 두개가 주어졌을 때\n",
    "        입력벡터 x: [[x1],[x2]] = x1*[[1],[0]] + x2*[[0],[1]]\n",
    "            T(x) = T(x1*[[1],[0]] + x2*[[0],[1]]) = x1*T([[1],[0]]) + x2*T([0],[1]]) = x1*[[2],[-1],[1]] + x2*[[0],[1],[2]]\n",
    "            => [[2,0],[-1.1],[1,2]] * [[x1],[x2]] => 행렬A * 벡터x의 꼴 => 이때 행렬 A를 'Standard Matrix' 라고한다\n",
    "          "
   ]
  },
  {
   "cell_type": "markdown",
   "id": "7482867c",
   "metadata": {},
   "source": [
    "    위의 개념을 graphical 하게 표현한다면 예를 들자\n",
    "    R2 -> R2 인 T에서 기저벡터를 입력으로 넣으면 [[1],[2]] , [[3],[4]] 로 함수값이 나온다고 하자.\n",
    "    그러면 행렬 A는 [[1,3],[2,4]]로 되고 행렬A * 백터x를 한 값이 함수값이다\n",
    "    입력 벡터로 [[2],[3]]을 넣으면 이것은 [[1],[2]]*2 + [[3],[4]]*3으로 나오는데 \n",
    "    이것은 원래 직사각형 모양의 벡터[[2],[3]]의 대각을 [[1],[2]]에 대해 2배, \n",
    "    [[3],[4]]에 대해 3배하여 평행사변형을 그려 대각을 그린 벡터로 나올 것이다.\n",
    "    따라서 linear transformation은 graphical 하게 표현하면 좌표격자를 선형적으로 평행사변형 꼴로 변경한 형태를 띠게한다.\n",
    "    더 나아가면 R2 -> R2는 노드2개와 노드2개를 fully-connected layer을 구성해서 행렬 연산을 하여 linear transformation한 것이다."
   ]
  },
  {
   "cell_type": "markdown",
   "id": "d6f4f19b",
   "metadata": {},
   "source": [
    "    입력 벡터 * 가중치 행렬 + bias를 진행할 때 선형변환은 위에서 언급한 것처럼 y=ax+b가 되면 만족하지 않으므로\n",
    "    bias를 붙이기 위해서는 y=ax꼴로 바꿔야 하는데 위에서 언급한 aT * x의 꼴로 변경하면 된다\n",
    "    -> bias벡터를 가중치 행렬의 새로운 열로 추가하고 입력벡터에 새로운 행 1을 붙여 곱하는 꼴로 표현"
   ]
  },
  {
   "cell_type": "markdown",
   "id": "7774ea2d",
   "metadata": {},
   "source": [
    "## ONTO & ONE-TO-ONE\n",
    "    onto: 공역=치역\n",
    "    one-to-one: 치역에 대한 정의역이 하나만 존재할 때\n",
    "    output 벡터인 수명의 공역은 0~INF라고 하면 mapping을 통해 나온 치역은 range(55,80)으로 나왔을 때-> onto 성립x\n",
    "    치역에 대한 정의역이 여러개인 것은 입력 벡터는 다르지만 mapping결과 같은 결과값이 나오는 경우 -> one-to-one 성립x\n",
    "    \n",
    "    R2 -> R3 의 transformation은 onto가 아님. 공역=치역 위해서는 정의역이 공역의 수보다 같거나 많아야한다.\n",
    "    span의 개념으로 보면 transformation의 공식은 행렬(3*2)*입력벡터(2차원)인데, 행렬을 열벡터화하면 \n",
    "    두개의 열과 입력벡터의 선형결합 즉, 두개의 열의 span으로 3차원 공간을 모두 뒤덮을 수 없으므로 onto가 될 수 없다.\n",
    "    \n",
    "    위의 예시에서 one-to-one이 되기 위해서는 standard matrix의 열들이 선형 독립이어야한다. \n",
    "    선형 독립일 경우에만 해가 하나이므로 치역에 대한 정의역이 하나만 존재"
   ]
  },
  {
   "cell_type": "markdown",
   "id": "0f6096a0",
   "metadata": {},
   "source": [
    "# Over-Determined System\n",
    "    방정식의 수(m)가 미지수의 수(n)보다 많아서 해가 없을 때\n",
    "    벡터1*x1 + 벡터2*x2 + 벡터3*x3 = b (각 벡터는 100차원, b도 100차원) -> m=100, n=3 -> span(벡터1,벡터2,벡터3)은 3개밖에 없으므로 100차원인 b를 커버할 수 없다\n",
    "### Vector Norm\n",
    "    벡터의 길이. v의 내적에 루트를 씌운 값\n",
    "### Unit Vector(단위 벡터)\n",
    "    길이가 1인 벡터: 원래의 벡터에 벡터의 길이로 나눈 벡터\n",
    "    \n",
    "    벡터 간 거리: 벡터u, 벡터v -> 길이(u+(-1*v)) = 길이(u-v)\n",
    "    u내적v = 길이u * 길이v * cos세타(두 벡터가 이루는 각에 코사인)\n",
    "        cos90 = 0 -> u내적v가 0이면 두 벡터는 직교함\n",
    "# Least squares solution\n",
    "    over-determined system에서 b-Ax 즉, 에러의 값은 sum squred error로 벡터의 각 성분을 제곱해서 더하고 루트를 씌우면 그것은 벡터의 길이가 된다. 그 벡터의 길이를 제일 작게하는 x(구하고자 하는 미지수)를 x^으로 표현하고 이것을 argmin 길이(b-Ax)라고 한다. 다시 말하면 b와의 거리가 최소화되는 벡터 Ax를 찾는 것.\n",
    "    Ax는 각 A의 열 * 각각의 x벡터 이다. 따라서 이것은 span(A의 열), 즉 A의 열의 선형결합들 즉, column space A에 속할 것이다.\n",
    "## 그래프적으로 접근\n",
    "    Ax는 column space A에 속하고 b는 거기에 속하지 않는다. column space와 b의 가장 가까운 점은 b에서 column space로 수선의 발을 내렸을 때이다. 그 점은 b^을 가지고 있다고 하고 거기서의 해를 x^이라고 한다. 이 x^을 구하는 것이 argmin (b-Ax)가 된다.\n",
    "    b에서 b^을 빼서 나온 벡터는 원점을 지나는 벡터다. column space A에서 원점을 지나는 어떠한 벡터든 cn와 A의 열벡터의 선형결합으로 구할 수 있다. b-b^ = b-Ax^ 과 c1*a1 + c2*a2 + ... + cn*an은 직교한다(an은 A의 열벡터). 이를 위해서는 b-Ax^과 각각의 열벡터 an이 수직이 되어야한다. 따라서 for i in range(n+1): ai 내적 b-Ax^ = 0 이 되면 된다. 이것은 다시 ai를 n까지 뭉친 A가 되고 AT 내적 b-Ax^ = 0으로 구하면 된다.\n",
    "# Normal Equation\n",
    "    위의 식을 풀면 AT*(b-Ax^)=0 ->  ATAx^ = ATb  이 방정식을 normal equation 이라고 하고 수직이 되는 벡터에 대한 방정식이다. \n",
    "    이는 Ax = b 꼴이기 때문에 least square solution은 normal equation을 푸는 문제가 된다.\n",
    "    ATA가 inverse를 가지면 x^ = (ATA)-1 * ATb 가 된다."
   ]
  }
 ],
 "metadata": {
  "kernelspec": {
   "display_name": "Python 3 (ipykernel)",
   "language": "python",
   "name": "python3"
  },
  "language_info": {
   "codemirror_mode": {
    "name": "ipython",
    "version": 3
   },
   "file_extension": ".py",
   "mimetype": "text/x-python",
   "name": "python",
   "nbconvert_exporter": "python",
   "pygments_lexer": "ipython3",
   "version": "3.9.7"
  }
 },
 "nbformat": 4,
 "nbformat_minor": 5
}
