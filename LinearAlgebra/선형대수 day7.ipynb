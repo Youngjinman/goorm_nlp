{
 "cells": [
  {
   "cell_type": "markdown",
   "id": "bcd0a8d9",
   "metadata": {},
   "source": [
    "## Geometric Multiplicity\n",
    "    람다에 대한 linearly independent 한 서로 다른 eigenvector의 개수 = 해당 람다의 eigenspace의 basis의 개수 = eigenspace의 dimension\n",
    "    모든 geometric multiplicity는 항상 1보다 크거나 같다 -> non zero eigenvector가 존재\n",
    "    모든 geometric multiplicity의 최대값은 algebraic multiplicity와 같다.\n",
    "    geometric multiplicity가 albebraic multiplicity와 같으면, 즉 행렬 A(n*n)의 차원(n)과 같아지면 linearly independent한\n",
    "    vector가 n개 나오게 되고 그러면 V가 invertible하므로 A = VDV-1인 eigendecomposition 이 가능하다.\n",
    "    반대로 geometric multiplicity가 linearly dependent한 vector가 생겨나서 algebraic multiplicity보다 작으면 V는 square matrix가 될 수 없으므로 invertible 하지 않게 되고 따라서 eigendecomposition이 불가능하게 된다.\n",
    "    characterisitc equation에서 중근이 없으면 각각의 람다에 대한 algebraic multiplicity와 geometric multiplicity가 같게 되므로 항상 eigendecomposition이 가능."
   ]
  },
  {
   "cell_type": "markdown",
   "id": "645603ed",
   "metadata": {},
   "source": [
    "# Similarity Transformation\n",
    "    A는 square matrix, B도 같은 차원의 square matrix. B-1AB = Y 일 때 A를 similarity transformation한 결과가 Y라고 한다. V-1AV = D 의 식에서 V가 A의 eigenvector을 열로가지는 square matrix(모든 열 선형 독립)라면 D는 diagonal matrix이며 그 대각 성분은 V의 열인 eigenvector에 상응하는 람다 값이다. 이렇게 A가 similarity transformation 에 의해서 diagonal matrix로 변할 수 있다면 A가 diagonalizable하다 = eigendecomposition이 존재한다."
   ]
  },
  {
   "cell_type": "markdown",
   "id": "cc1342e6",
   "metadata": {},
   "source": [
    "# Symmetric Matrix\n",
    "    대칭행렬은 항상 orthogonally diagonalizable하다 -> 대칭 행렬의 eigenvector들은 모두 선형독립하며 orthogonal하고 similarity transformation에 의해 대각 행렬로 변환가능하다. 따라서 eigendecomposition이 항상 가능하다.\n",
    "    대칭행렬 A = PDP-1라고 하면 P는 직교행렬(orthogonal matrix)인데 이 뜻은 square matrix with orthonormal columns(열들의 길이를 1로 맞추고 모두 수직) 이다. 성질은 P-1 = PT 이다."
   ]
  },
  {
   "cell_type": "markdown",
   "id": "dffd0450",
   "metadata": {},
   "source": [
    "## Spectral Decomposition\n",
    "        A(대칭행렬) = PDP-1 의 similarity decomposition 에서 PDP-1 은 [[v1],[v2],[v3]] * 3*3대각행렬(고윳값으로 구성) * [v1.T,v2.T,v3.T] 라고 하면(3차원 가정) v1*람다1 v2*람다2 v3*람다3 @ [v1.T,v2.T,v3.T] 이렇게 되고, 이건 벡터의 외적(rank1 outer-product)으로 람다1*v1@v1.T + 람다2*v2*v2.T + 람다3*v3*v3.T로 나타내어지는데 이렇게 분해한 것을 spectral decomposition이라고 한다. 그리고 각각의 벡터 외적을 스펙트럼이라고 한다. 각각의 스펙트럼 별로 각각의 람다값이 곱해져있다."
   ]
  },
  {
   "cell_type": "markdown",
   "id": "2ed8a1a1",
   "metadata": {},
   "source": [
    "## Spectral Theorem\n",
    "    1. A(n*n)가 대칭행렬일 때 그 eigenvalue 들은 n개의 실근을 가진다 (허근 x)\n",
    "    2. algebraic multiplicity 와 geometric multiplicityr가 같다 -> eigen decomposition 가능\n",
    "    3. eigenspace의 eigenvector은 서로 orthogonal 하다.\n",
    "    4. orthogonally diagonalizable하다"
   ]
  },
  {
   "cell_type": "markdown",
   "id": "89025f8a",
   "metadata": {},
   "source": [
    "## Diagonal Matrix\n",
    "    대각행렬의 characteristic equation 즉 대각에 람다를 뺀 행렬의 행렬식=0 이라는 방정식은 항상 대각 성분들끼리의 곱=0 이다.\n",
    "    ex) [[3-람다,0,0],[0,2-람다,0],[0,0,6-람다]] => characteristic equation = (3-람다)*(2-람다)*(6-람다) = 0\n",
    "    V-1AV = D에서 D를 구하기위해 V(현재는 eigenvector가 아님)를 조금씩 바꿔가면서 V-1AV가 대각성분만 남을 때까지 연산하는 과정이 필요"
   ]
  }
 ],
 "metadata": {
  "kernelspec": {
   "display_name": "Python 3 (ipykernel)",
   "language": "python",
   "name": "python3"
  },
  "language_info": {
   "codemirror_mode": {
    "name": "ipython",
    "version": 3
   },
   "file_extension": ".py",
   "mimetype": "text/x-python",
   "name": "python",
   "nbconvert_exporter": "python",
   "pygments_lexer": "ipython3",
   "version": "3.9.7"
  }
 },
 "nbformat": 4,
 "nbformat_minor": 5
}
