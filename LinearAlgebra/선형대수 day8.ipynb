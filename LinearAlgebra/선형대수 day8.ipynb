{
 "cells": [
  {
   "cell_type": "markdown",
   "id": "cf0bf5eb",
   "metadata": {},
   "source": [
    "# SVD(특이값 분해)\n",
    "    m*n 직사각행렬을 u(m*m)행렬 * 시그마(m*n)행렬(대각 성분만 값이 있고 나머지 0) * VT(n*n)행렬로 분해\n",
    "    U와 V는 열벡터가 orthonormal하게 구성\n",
    "    P가 역행렬이 존재해야하는 고유값 분해(A= PDP-1)와 달리 SVD는 항상 존재함(자유도가 높음)\n",
    "    U, 시그마, VT의 곱을 진행하면 시그마는 n개의 row만 성분이 존재하고 나머지는 0임\n",
    "    -> 시그마와 VT의 곱은 m*n이지만 n개의 row만 성분이 존재하고 밑에 m-n개는 0으로 채워짐\n",
    "    -> 다시 U를 곱하면 U의 열벡터와 오른쪽 행렬의 행벡터의 외적으로 식이 나오는데 m-n의 0 행벡터에 의해 U의 열벡터 n개만 쓰이게 된다\n",
    "    따라서 행렬들의 곱셈의 결과로 보면 U는 m*n, 시그마는 n*n, VT는 n*n이어도 결과는 똑같다(Reduced form)."
   ]
  },
  {
   "cell_type": "markdown",
   "id": "e3a58fde",
   "metadata": {},
   "source": [
    "## Singular Value\n",
    "    m*n 직사각행렬 A는 AT*A 하면 n*n 대칭행렬이 된다. 이 대칭행렬의 고유값들은 모두 양수가 되고, 이것들을 각각 루트를 취하면\n",
    "    A의 singular value라고 한다(A의 람다 값의 범위는 실수지만 ATA는 람다끼리 곱하고 루트를 취했으니 0보다 크거나 같다).\n",
    "    A의 singular value의 non zero 개수를 r개라고 하면 r은 항상 n보다 작거나 같다. 그 r개의 singular value에 대한 각각의 eigenvector와 행렬 A의 곱은 orthogonal하고 column space A의 basis가 된다. ATA(대칭행렬)의 고유벡터들은 이미 orthonormal한데, A와의 연산을 거쳐서도 그 eigenvector는 orthogonal 하다(내적값이 0이 나옴). 벡터의 길이는 1이 아니고 길이는 그 벡터의 singular value만큼이 나온다.\n",
    "    x = c1v1 + c2v2 + c3v3 +...+ cnvn이면 ATA의 고유벡터들에 그 좌표값을 선형결합해 만든 벡터\n",
    "    y를 column space A의 아무 열벡터라고 하면 Ax는 0이 아닌 singular value를 가지는 개수 r개 만큼의 c와의 선형결합으로 표현 가능하고,\n",
    "    따라서 A*v(고유벡터)가 column space A의 basis가 된다\n",
    "    따라서 column space A의 dimension은 r이 된다. 또 rank A도 r이 된다."
   ]
  },
  {
   "cell_type": "markdown",
   "id": "7b149d58",
   "metadata": {},
   "source": [
    "## Av의 단위벡터화\n",
    "    A와 singular value의 고유벡터의 곱이 column space A의 basis가 되는 orthogonal한 벡터들인데 이것을 orthonormal하게 만들어주기 위해\n",
    "    벡터의 길이인 루트 람다 값(Av의 길이 제곱 = (Av)T*Av = vTAT*Av = vT*람다*v = 람다*vT*v = 람다. vT*v는 길이가 1이므로)으로 나눠주면 단위벡터화가 된다. 그때 그 벡터를 u라고 하면 ui = Avi / 루트람다i 가 되고 u*루트람다 = Avi가 된다.\n",
    "    u의 개수는 r개 뿐인데 이것을 A 차원의 m개로 확장한다고 하면(column space A의 직교하는 basis vector을 m개까지 만듦) u1T,u2T,...,urT 곱하기 x = 0이 되고 x는 basis vector가 m-r개의 subspace(day5의 null space참고). 그 m-r개의 x를 그램슈미츠나 QR factorization을 통해 orthonormal한 벡터로 변경.\n",
    "    그렇게 되면 U는 m*m의 직교행렬, V는 ATA의 eigenvector로 이루어진 m*m의 직교행렬이 됨."
   ]
  }
 ],
 "metadata": {
  "kernelspec": {
   "display_name": "Python 3 (ipykernel)",
   "language": "python",
   "name": "python3"
  },
  "language_info": {
   "codemirror_mode": {
    "name": "ipython",
    "version": 3
   },
   "file_extension": ".py",
   "mimetype": "text/x-python",
   "name": "python",
   "nbconvert_exporter": "python",
   "pygments_lexer": "ipython3",
   "version": "3.9.7"
  }
 },
 "nbformat": 4,
 "nbformat_minor": 5
}
