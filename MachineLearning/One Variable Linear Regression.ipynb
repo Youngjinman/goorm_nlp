{
 "cells": [
  {
   "cell_type": "markdown",
   "id": "3c12dbc4",
   "metadata": {},
   "source": [
    "# Supervised Learning\n",
    "    타겟값을 예측 또는 분류\n",
    "        *Regression(연속형)\n",
    "        *Classification(범주형)"
   ]
  },
  {
   "cell_type": "markdown",
   "id": "6bfe5f20",
   "metadata": {},
   "source": [
    "## Cost Function(=Objective Function==Loss Function)\n",
    "    손실함수(목적함수)\n",
    "    실제 데이터와 예측치의 차이를 최소화하기 위한 함수\n",
    "    파라미터를 수정하며 차이를 최소화하도록 cost function을 수정해야함 -> 최적화(Optimization)\n",
    "    1/n * 시그마(y-(ax+b))^2 = mean squared error -> cost function으로 mean squared error을 채택함"
   ]
  },
  {
   "cell_type": "markdown",
   "id": "10186007",
   "metadata": {},
   "source": [
    "## Gradient-Descent\n",
    "    cost function의 최저점을 단계적으로 찾아가는 과정\n",
    "    최저점이 하나만 존재하면 convex function(볼록 함수)\n",
    "    local minima(여러개의 국소적 저점들)을 가지면 non-convex function\n",
    "    cost function의 기울기를 구함 -> 미분을 통해\n",
    "    기울기를 구했는데 음수다? -> x값을 증가시키면 더 낮아질 수 있음 -> x - learning rate*현재의 기울기\n",
    "    기울기를 구했는데 양수다? -> x값을 감소시키면 더 낮아질 수 있음 -> x - learning rate*현재의 기울기\n",
    "    x - learning rate*현재의 기울기로 최저점으로 가는 gradient descent의 식은 동일함\n",
    "    현재의 기울기의 절대값이 크면클수록 움직이는 거리가 더 늘어남 -> 가파를수록 최저점까지 거리가 상대적으로 더 멀기 때문\n",
    "        만약 최저점보다 거리가 많이 먼데 기울기가 더 완만한 cost function이면 gradient descent못씀"
   ]
  },
  {
   "cell_type": "markdown",
   "id": "767b2b92",
   "metadata": {},
   "source": [
    "## 변수가 2개일 때 gradient descent -> 편미분\n",
    "    J(a,b) = a^2 + 3b^2 -2ab +4a -5b +3 이라는 a,b에 대한 cost function 존재\n",
    "    현재 a=-1, b=-2, learning rate=0.1\n",
    "    cost function을 각각 변수에 대해 편미분하여 기울기 함수를 구함\n",
    "        -> J(a,b)/편d(a) = 2a -2b +4\n",
    "        -> J(a,b)/편d(b) = 6b -2a -5\n",
    "        변동된 a: -1 - 0.1 * (-2+4+4) = -1.6\n",
    "        변동된 b: -2 - 0.1 * (-12+2-5) = -0.5\n",
    "        이 업데이트 과정을 반복해서 기울기가 0이 근사할 때 멈춤\n",
    "        \n",
    "    편미분은 기하학적으로 cost function을 a, b의 각 축으로 자르고(3차원 그래프를 케잌 자르듯이) 2차원 그래프처럼 생각하고 기울기를 0으로 조금씩 만드는 것임"
   ]
  }
 ],
 "metadata": {
  "kernelspec": {
   "display_name": "Python 3 (ipykernel)",
   "language": "python",
   "name": "python3"
  },
  "language_info": {
   "codemirror_mode": {
    "name": "ipython",
    "version": 3
   },
   "file_extension": ".py",
   "mimetype": "text/x-python",
   "name": "python",
   "nbconvert_exporter": "python",
   "pygments_lexer": "ipython3",
   "version": "3.9.7"
  }
 },
 "nbformat": 4,
 "nbformat_minor": 5
}
