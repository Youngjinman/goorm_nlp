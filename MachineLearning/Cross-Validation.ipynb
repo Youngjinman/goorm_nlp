{
 "cells": [
  {
   "cell_type": "markdown",
   "metadata": {},
   "source": [
    "# Cross-Validation\n",
    "    train data와 validation data를 번갈아가면서 수행\n",
    "### LOOCV(Leave One out Cross Validation)\n",
    "    데이터들 중 하나만 validation data가 되는데 모든 데이터들이 한번씩 다 그 역할을 수행"
   ]
  },
  {
   "cell_type": "markdown",
   "metadata": {},
   "source": [
    "# K-fold Cross Validation\n",
    "    k만큼 data set을 구분 짓고 첫번째부터 k번째까지 순서대로 validation set이 되고 나머지는 train set이 되어 학습시킴. 총 k번 학습과 검증을 수행\n",
    "    LOOCV는 학습데이터로 모든 데이터를 모두 활용하므로 성능은 좋으나 시간이 너무 오래걸림, 따라서 데이터가 좀 적을 때만 활용 가능. \n",
    "    일반적으로는 k fold cross validation이 효율성은 더 좋다."
   ]
  },
  {
   "cell_type": "markdown",
   "metadata": {},
   "source": [
    "## Train, Validation, Test\n",
    "    train으로 모델을 학습시키고 validation을 통해 검증하며 모델의 하이퍼파라미터를 수정한다(ex. epoch, 차수, regularization term 등). Validation에서 성능이 가장 괜찮게 나왔던 모델을 채택해 test(unseen data)를 통해 모델의 성능을 평가한다. test는 모델의 수정에 관여할 수 없다."
   ]
  },
  {
   "cell_type": "markdown",
   "metadata": {},
   "source": [
    "# 차원 축소\n",
    "    방해가 될 만한 정보 삭제, computational 이점\n",
    "    feature = dimension\n",
    "\n",
    "    Feature Selection(특징 선택): 여러 feature 중에서 나머지는 버리고 몇개만 선택\n",
    "        feature을 하나씩 추가해보며 성능의 추이를 관찰\n",
    "        training data에 대해서는 feature을 추가할수록 성능이 올라가므로 validation data에 대해서 feature의 추가에 대한 성능의 추이를 봐야함.\n",
    "        마찬가지 방식으로 backward elimination으로는 feature을 다 추가한 상태에서 feature을 제거할 때마다 성능의 추이를 볼 수 있다.\n",
    "    Feature Extraction(특징 추출): 차원 축소 이후의 main task에 도움이 될 수 있게 원래의 feature에서 새롭게 조합해서 새로운 feature 형성"
   ]
  },
  {
   "cell_type": "markdown",
   "metadata": {},
   "source": [
    "# PCA\n",
    "    data들의 분포를 봤을 때 가장 넓게 퍼져있는 축을 찾아냄(주성분). 분산이 커야함 -> 데이터 간의 분산이 클수록 각 데이터의 특징이 잡혀있음(모여있을수록 비슷하고 떨어져있을수록 특색있음). 그 축을 기준으로 각 데이터에서 기준 축으로 orthogonal projection하면 원래 데이터의 좌표와 다른 새로운 좌표가 나옴. 주성분으로 분산이 작은 축을 사용하면 각 데이터에서 그 축으로 orthogonal projection을 했을 때 거리차이가 거의 안나게 되고, 그러면 차원축소를 하고 난 후 데이터의 차이를 알아볼 수 없음. 따라서 데이터의 분포에서 가장 분산이 큰 축을 주성분으로 지정\n",
    "    "
   ]
  }
 ],
 "metadata": {
  "language_info": {
   "name": "python"
  },
  "orig_nbformat": 4
 },
 "nbformat": 4,
 "nbformat_minor": 2
}
