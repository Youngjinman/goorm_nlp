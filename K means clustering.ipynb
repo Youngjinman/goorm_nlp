{
 "cells": [
  {
   "cell_type": "markdown",
   "id": "8986d760",
   "metadata": {},
   "source": [
    "# K-means clustering(unsupervised learning)\n",
    "    k는 대표점의 개수\n",
    "    랜덤하게 데이터에서 대표점을 k만큼 찍는다. -> 각 대표점을 기준으로 가까운 데이터들은 각 대표점으로 clustering한다(이 때 대표점들을 이은 선의 수직 이등분선으로 각 데이터들이 어디랑 가까운지 판별가능). -> 군집별 평균점을 구해서 대표점을 갱신한다. -> 다시 각 대표점을 기준으로 가까운 데이터들을 각 대표점으로 clustering 한다-> 이 과정을 반복한다 -> 대표점이 바뀌지 않고 clustering의 결과가 바뀌지 않으면 멈춘다 -> k만큼의 cluster이 생성된다."
   ]
  },
  {
   "cell_type": "markdown",
   "id": "e90d1e3a",
   "metadata": {},
   "source": [
    "# Objective Function\n",
    "    특정 cluster에 속하는 데이터 x와 그 cluster의 대표값과의 거리의 제곱을 모든 데이터에 대해 해주고 그것의 평균이 objective function(cost function)이고 이것을 최소화해줘야함\n",
    "     각 데이터들이 속한 cluster을 업데이트 시킴(대표자는 고정한 상태에서)\n",
    "     각 cluster의 대표자를 업데이트 시킴(cluster는 고정한 상태에서)\n",
    "     이 과정을 반복하며 objective function을 최소화 함.\n"
   ]
  },
  {
   "cell_type": "markdown",
   "id": "6dcf24ec",
   "metadata": {},
   "source": [
    "# Local optima\n",
    "    대표값을 initialize할 때는 가지고 있는 데이터 중에서 고른다. 그런데 대표값을 initialize한 것에 따라서 구분된 cluster들이 달라질 수 있다 -> local optima\n",
    "     따라서 여러 initialize에 따라서 각 대표점과 각 cluster의 데이터들의 거리의 제곱의 합이 가장 최소화 되는 대표점을 찾아야 한다.\n"
   ]
  },
  {
   "cell_type": "markdown",
   "id": "8c9ada88",
   "metadata": {},
   "source": [
    "# k 설정 방법\n",
    "    k의 수가 늘어날수록 cost function의 값(각 클러스터 별 대표자와 클러스터 내 데이터 간의 거리의 제곱의 합)이 줄어들긴함. 근데 k값이 줆에 따라 처음에는 크게 cost function의 값이 줄어들지만 나중에는 완만하게 줄어듦. 가장 가파르게 줄어드는 마지막 지점의 k를 선택(elbow method)\n"
   ]
  },
  {
   "cell_type": "markdown",
   "id": "c6f5e0e9",
   "metadata": {},
   "source": [
    "k-means clustering은 선형적으로 clustering하므로 DBscan이라는 방법이 더 좋을 때도 있다.\n"
   ]
  }
 ],
 "metadata": {
  "kernelspec": {
   "display_name": "Python 3 (ipykernel)",
   "language": "python",
   "name": "python3"
  },
  "language_info": {
   "codemirror_mode": {
    "name": "ipython",
    "version": 3
   },
   "file_extension": ".py",
   "mimetype": "text/x-python",
   "name": "python",
   "nbconvert_exporter": "python",
   "pygments_lexer": "ipython3",
   "version": "3.9.7"
  }
 },
 "nbformat": 4,
 "nbformat_minor": 5
}
