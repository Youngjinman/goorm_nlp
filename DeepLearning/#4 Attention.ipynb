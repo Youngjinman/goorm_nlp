{
 "cells": [
  {
   "cell_type": "markdown",
   "id": "afa53988",
   "metadata": {},
   "source": [
    "# Attention"
   ]
  },
  {
   "cell_type": "markdown",
   "id": "b5febda0",
   "metadata": {},
   "source": [
    "# Image Captioning\n",
    "    One-to-Many의 형태\n",
    "\t이미지를 input으로 넣으면 image에 맞는 설명이 출력\n",
    "\tRNN으로 구현: 미리 구현한 model에서 fully connected 4096(예시)에서 잘라서 그것을 다음 시점의 hidden state vector로 참여하게 하여 captioning 수행. 마지막 토큰이 오면 end of sentence token 반환하여 종료. \n",
    "\tAttention : fully connected로 넘어가기 전에 중간즈음의 conv에서 잘라서 그것을 다음 시점의 hidden state vector로 참여하게 함(activation map의 형태로 참여)\n",
    "\t\t이때는 앞의 rnn때보다 low level의 feature정보이긴 하지만 위치별로 feature 정보를 지님. (fully connected 는 4096개의 원소가 한줄로 이어져있으므로 위치정보를 담지 못함)\n",
    "\t\t이렇게 하면 예를들어 a bird flying over the sea라는 문장을 생성할 때 a 다음에는 새가 위치한 image의 부분을 집중적으로 보고 the 다음에 sea를 생성할 때는 이미지에서 바다가 차지하는 위치를 집중적으로 보고 생성할 것임.\n",
    "\t\t모델을 살펴보면 특정 부분을 집중적으로 보는 것을 작동하는 방법은 bird을 뽑아낼때는 activation map에서 새가 위치하는 부분에 가중치를 크게 걸고 나머지 부분에는 작게 건다. 각각의 픽셀에 서로다른 가중치를 곱한 값들을 평균 낸다(가중평균)\n",
    "\t\t그러면 activation map이 3*3인 9이더라도 평균을 냈으므로 한줄짜리 벡터가 나오고 그것이 현재 나온 word와 함께(현재 출력단어를 다음 입력단어로 넣음) 다음 시점의 input으로 들어간다.\n",
    "\t\t가중치map을 설정하는 방법은 h를 통해 만든 output은 두개인데 하나는 다음 word가 나오고 나머지 하나는 hidden state vector(h0)와 가중치를 곱한 행렬을 softmax하여 conv filter을 만든다. 이 filter을 activation map의 픽셀 각각에 내적을 한다. 그러면 어떤 픽셀에 집중할지가 나온다. \n",
    "\t\t그 각각의 값들을 더하고(가중평균) 다음 시점의 input으로 word와 함께 들어감. 이 과정이 반복된다. issues의 Attention_operating_picture에 과정 사진을 업로드 해두었다"
   ]
  },
  {
   "cell_type": "code",
   "execution_count": null,
   "id": "5be59377",
   "metadata": {},
   "outputs": [],
   "source": []
  }
 ],
 "metadata": {
  "kernelspec": {
   "display_name": "Python 3 (ipykernel)",
   "language": "python",
   "name": "python3"
  },
  "language_info": {
   "codemirror_mode": {
    "name": "ipython",
    "version": 3
   },
   "file_extension": ".py",
   "mimetype": "text/x-python",
   "name": "python",
   "nbconvert_exporter": "python",
   "pygments_lexer": "ipython3",
   "version": "3.9.7"
  }
 },
 "nbformat": 4,
 "nbformat_minor": 5
}
